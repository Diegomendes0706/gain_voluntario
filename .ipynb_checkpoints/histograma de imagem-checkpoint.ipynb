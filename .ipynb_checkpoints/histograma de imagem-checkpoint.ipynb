{
 "cells": [
  {
   "cell_type": "code",
   "execution_count": null,
   "id": "45b3ef72",
   "metadata": {},
   "outputs": [],
   "source": [
    "import cv2\n",
    "import numpy as np\n",
    "import matplotlib.pyplot as plt"
   ]
  },
  {
   "cell_type": "code",
   "execution_count": null,
   "id": "86f8e88e",
   "metadata": {},
   "outputs": [],
   "source": [
    "caminho_imagem = str(input(\"Insira o caminho para a imagem: \"))\n",
    "if caminho_imagem[0] == '\"' and caminho_imagem[-1] == '\"':\n",
    "    caminho_imagem = caminho_imagem[1:-1]\n",
    "try:\n",
    "    with open(caminho_imagem, 'rb') as f:\n",
    "        byte_content = f.read()\n",
    "        nparray = np.frombuffer(byte_content, np.uint8)\n",
    "        imagem = cv2.imdecode(nparray, cv2.IMREAD_COLOR)\n",
    "except Exception as e:\n",
    "    print(\"Falha ao carregar a imagem:\", str(e))\n",
    "    exit()"
   ]
  },
  {
   "cell_type": "code",
   "execution_count": null,
   "id": "66a9de32",
   "metadata": {},
   "outputs": [],
   "source": [
    "rgb = [\"r\", \"g\", \"b\"]\n",
    "plt.figure()\n",
    "for i,color in enumerate(color):\n",
    "    histr = cv2.calcHist([imagem],[i],None,[256],[0,256])\n",
    "    plt.plot(histr,rgb = color)\n",
    "    plt.xlim([0,256])\n",
    "plt.show()"
   ]
  },
  {
   "cell_type": "code",
   "execution_count": null,
   "id": "b704a896",
   "metadata": {},
   "outputs": [],
   "source": []
  }
 ],
 "metadata": {
  "kernelspec": {
   "display_name": "Python 3 (ipykernel)",
   "language": "python",
   "name": "python3"
  },
  "language_info": {
   "codemirror_mode": {
    "name": "ipython",
    "version": 3
   },
   "file_extension": ".py",
   "mimetype": "text/x-python",
   "name": "python",
   "nbconvert_exporter": "python",
   "pygments_lexer": "ipython3",
   "version": "3.11.5"
  }
 },
 "nbformat": 4,
 "nbformat_minor": 5
}
