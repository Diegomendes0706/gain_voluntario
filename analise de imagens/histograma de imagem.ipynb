{
 "cells": [
  {
   "cell_type": "code",
   "execution_count": 3,
   "id": "45b3ef72",
   "metadata": {},
   "outputs": [],
   "source": [
    "import cv2\n",
    "import numpy as np\n",
    "import matplotlib.pyplot as plt"
   ]
  },
  {
   "cell_type": "code",
   "execution_count": 4,
   "id": "86f8e88e",
   "metadata": {},
   "outputs": [
    {
     "ename": "IndexError",
     "evalue": "string index out of range",
     "output_type": "error",
     "traceback": [
      "\u001b[1;31m---------------------------------------------------------------------------\u001b[0m",
      "\u001b[1;31mIndexError\u001b[0m                                Traceback (most recent call last)",
      "Cell \u001b[1;32mIn[4], line 2\u001b[0m\n\u001b[0;32m      1\u001b[0m caminho_imagem \u001b[38;5;241m=\u001b[39m \u001b[38;5;28mstr\u001b[39m(\u001b[38;5;28minput\u001b[39m(\u001b[38;5;124m\"\u001b[39m\u001b[38;5;124mInsira o caminho para a imagem: \u001b[39m\u001b[38;5;124m\"\u001b[39m))\n\u001b[1;32m----> 2\u001b[0m \u001b[38;5;28;01mif\u001b[39;00m \u001b[43mcaminho_imagem\u001b[49m\u001b[43m[\u001b[49m\u001b[38;5;241;43m0\u001b[39;49m\u001b[43m]\u001b[49m \u001b[38;5;241m==\u001b[39m \u001b[38;5;124m'\u001b[39m\u001b[38;5;124m\"\u001b[39m\u001b[38;5;124m'\u001b[39m \u001b[38;5;129;01mand\u001b[39;00m caminho_imagem[\u001b[38;5;241m-\u001b[39m\u001b[38;5;241m1\u001b[39m] \u001b[38;5;241m==\u001b[39m \u001b[38;5;124m'\u001b[39m\u001b[38;5;124m\"\u001b[39m\u001b[38;5;124m'\u001b[39m:\n\u001b[0;32m      3\u001b[0m     caminho_imagem \u001b[38;5;241m=\u001b[39m caminho_imagem[\u001b[38;5;241m1\u001b[39m:\u001b[38;5;241m-\u001b[39m\u001b[38;5;241m1\u001b[39m]\n\u001b[0;32m      4\u001b[0m \u001b[38;5;28;01mtry\u001b[39;00m:\n",
      "\u001b[1;31mIndexError\u001b[0m: string index out of range"
     ]
    }
   ],
   "source": [
    "caminho_imagem = str(input(\"Insira o caminho para a imagem: \"))\n",
    "if caminho_imagem[0] == '\"' and caminho_imagem[-1] == '\"':\n",
    "    caminho_imagem = caminho_imagem[1:-1]\n",
    "try:\n",
    "    with open(caminho_imagem, 'rb') as f:\n",
    "        byte_content = f.read()\n",
    "        nparray = np.frombuffer(byte_content, np.uint8)\n",
    "        imagem = cv2.imdecode(nparray, cv2.IMREAD_COLOR)\n",
    "except Exception as e:\n",
    "    print(\"Falha ao carregar a imagem:\", str(e))\n",
    "    exit()"
   ]
  },
  {
   "cell_type": "code",
   "execution_count": null,
   "id": "66a9de32",
   "metadata": {},
   "outputs": [],
   "source": [
    "rgb = [\"r\", \"g\", \"b\"]\n",
    "plt.figure()\n",
    "for i,color in enumerate(rgb):\n",
    "    histr = cv2.calcHist([imagem],[i],None,[256],[0,256])\n",
    "    plt.plot(histr,rgb = color)\n",
    "    plt.xlim([0,256])\n",
    "plt.show()"
   ]
  }
 ],
 "metadata": {
  "kernelspec": {
   "display_name": "Python 3 (ipykernel)",
   "language": "python",
   "name": "python3"
  },
  "language_info": {
   "codemirror_mode": {
    "name": "ipython",
    "version": 3
   },
   "file_extension": ".py",
   "mimetype": "text/x-python",
   "name": "python",
   "nbconvert_exporter": "python",
   "pygments_lexer": "ipython3",
   "version": "3.12.1"
  }
 },
 "nbformat": 4,
 "nbformat_minor": 5
}
