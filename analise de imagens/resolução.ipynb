{
 "cells": [
  {
   "cell_type": "code",
   "execution_count": 1,
   "id": "27ef9fde",
   "metadata": {},
   "outputs": [],
   "source": [
    "import cv2"
   ]
  },
  {
   "cell_type": "code",
   "execution_count": null,
   "id": "87eaad8f",
   "metadata": {},
   "outputs": [],
   "source": [
    "diretorio = str(input(\"diretorio da imagem: \"))\n",
    "imagem = cv2.imread(diretorio)\n",
    "imagem.shape"
   ]
  },
  {
   "cell_type": "code",
   "execution_count": 4,
   "id": "92ac63ca",
   "metadata": {},
   "outputs": [
    {
     "name": "stdout",
     "output_type": "stream",
     "text": [
      "altura: 555\n",
      "largura: 1024\n"
     ]
    }
   ],
   "source": [
    "print(f\"altura: {imagem.shape[0]}\")\n",
    "print(f'largura: {imagem.shape[1]}')"
   ]
  }
 ],
 "metadata": {
  "kernelspec": {
   "display_name": "Python 3 (ipykernel)",
   "language": "python",
   "name": "python3"
  },
  "language_info": {
   "codemirror_mode": {
    "name": "ipython",
    "version": 3
   },
   "file_extension": ".py",
   "mimetype": "text/x-python",
   "name": "python",
   "nbconvert_exporter": "python",
   "pygments_lexer": "ipython3",
   "version": "3.11.5"
  }
 },
 "nbformat": 4,
 "nbformat_minor": 5
}
